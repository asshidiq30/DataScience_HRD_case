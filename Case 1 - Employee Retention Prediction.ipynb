{
 "cells": [
  {
   "cell_type": "markdown",
   "metadata": {},
   "source": [
    "# Understand Problem Statement and Business Case"
   ]
  },
  {
   "cell_type": "code",
   "execution_count": null,
   "metadata": {},
   "outputs": [],
   "source": []
  },
  {
   "cell_type": "markdown",
   "metadata": {},
   "source": [
    "# Import Libraries and Datasets"
   ]
  },
  {
   "cell_type": "code",
   "execution_count": null,
   "metadata": {},
   "outputs": [],
   "source": [
    "import pandas as pd\n",
    "import numpy as np\n",
    "import seaborn as sns\n",
    "import matplotlib.pyplot as plt"
   ]
  },
  {
   "cell_type": "code",
   "execution_count": 5,
   "metadata": {},
   "outputs": [
    {
     "ename": "ModuleNotFoundError",
     "evalue": "No module named 'google.colab'",
     "output_type": "error",
     "traceback": [
      "\u001b[1;31m---------------------------------------------------------------------------\u001b[0m",
      "\u001b[1;31mModuleNotFoundError\u001b[0m                       Traceback (most recent call last)",
      "\u001b[1;32m<ipython-input-5-a8467738fb24>\u001b[0m in \u001b[0;36m<module>\u001b[1;34m\u001b[0m\n\u001b[0;32m      2\u001b[0m \u001b[1;31m# For more information regarding mounting, please check this out: https://stackoverflow.com/questions/46986398/import-data-into-google-colaboratory\u001b[0m\u001b[1;33m\u001b[0m\u001b[1;33m\u001b[0m\u001b[1;33m\u001b[0m\u001b[0m\n\u001b[0;32m      3\u001b[0m \u001b[1;33m\u001b[0m\u001b[0m\n\u001b[1;32m----> 4\u001b[1;33m \u001b[1;32mfrom\u001b[0m \u001b[0mgoogle\u001b[0m\u001b[1;33m.\u001b[0m\u001b[0mcolab\u001b[0m \u001b[1;32mimport\u001b[0m \u001b[0mdrive\u001b[0m\u001b[1;33m\u001b[0m\u001b[1;33m\u001b[0m\u001b[0m\n\u001b[0m\u001b[0;32m      5\u001b[0m \u001b[0mdrive\u001b[0m\u001b[1;33m.\u001b[0m\u001b[0mmount\u001b[0m\u001b[1;33m(\u001b[0m\u001b[1;34m'/content/drive'\u001b[0m\u001b[1;33m)\u001b[0m\u001b[1;33m\u001b[0m\u001b[1;33m\u001b[0m\u001b[0m\n",
      "\u001b[1;31mModuleNotFoundError\u001b[0m: No module named 'google.colab'"
     ]
    }
   ],
   "source": [
    "# You will need to mount your drive using the following commands:\n",
    "# For more information regarding mounting, please check this out: https://stackoverflow.com/questions/46986398/import-data-into-google-colaboratory\n",
    "\n",
    "from google.colab import drive\n",
    "drive.mount('/content/drive')"
   ]
  },
  {
   "cell_type": "code",
   "execution_count": 2,
   "metadata": {},
   "outputs": [
    {
     "name": "stdout",
     "output_type": "stream",
     "text": [
      "Processing c:\\users\\adam\\appdata\\local\\pip\\cache\\wheels\\f6\\3b\\58\\f34ea9045a7c69bd5634978bf25ac60277e90997d9e6e74192\\google_colab-1.0.0-py2.py3-none-any.whlNote: you may need to restart the kernel to use updated packages.\n"
     ]
    },
    {
     "name": "stderr",
     "output_type": "stream",
     "text": [
      "ERROR: fastai 1.0.34 requires torchvision-nightly, which is not installed.\n",
      "ERROR: spyder-kernels 0.4.2 has requirement ipykernel>=4.8.2, but you'll have ipykernel 4.6.1 which is incompatible.\n",
      "ERROR: spacy 2.0.16 has requirement regex==2018.01.10, but you'll have regex 2018.8.29 which is incompatible.\n",
      "ERROR: jupyterlab 1.2.6 has requirement jupyterlab_server~=1.0.0, but you'll have jupyterlab-server 1.1.4 which is incompatible.\n",
      "ERROR: jupyter-console 6.1.0 has requirement prompt-toolkit!=3.0.0,!=3.0.1,<3.1.0,>=2.0.0, but you'll have prompt-toolkit 1.0.18 which is incompatible.\n",
      "ERROR: Could not install packages due to an EnvironmentError: [WinError 5] Access is denied: 'C:\\\\Users\\\\Adam\\\\AppData\\\\Local\\\\Temp\\\\pip-uninstall-1czy19kv\\\\jupyter-notebook.exe'\n",
      "Consider using the `--user` option or check the permissions.\n",
      "\n"
     ]
    },
    {
     "name": "stdout",
     "output_type": "stream",
     "text": [
      "\n",
      "Collecting ipython~=5.5.0\n",
      "  Using cached ipython-5.5.0-py3-none-any.whl (758 kB)\n",
      "Requirement already satisfied: google-auth~=1.4.0 in c:\\users\\adam\\anaconda3\\lib\\site-packages (from google.colab) (1.4.2)\n",
      "Requirement already satisfied: six~=1.12.0 in c:\\users\\adam\\anaconda3\\lib\\site-packages (from google.colab) (1.12.0)\n",
      "Processing c:\\users\\adam\\appdata\\local\\pip\\cache\\wheels\\73\\0c\\f5\\35977446e45e818e6b848be3d41e7f38298a5102f4dcda21c6\\portpicker-1.2.0-py3-none-any.whl\n",
      "Requirement already satisfied: tornado~=4.5.0 in c:\\users\\adam\\anaconda3\\lib\\site-packages (from google.colab) (4.5.3)\n",
      "Collecting requests~=2.21.0\n",
      "  Using cached requests-2.21.0-py2.py3-none-any.whl (57 kB)\n",
      "Collecting notebook~=5.2.0\n",
      "  Using cached notebook-5.2.2-py2.py3-none-any.whl (8.0 MB)\n",
      "Requirement already satisfied: pandas~=0.24.0 in c:\\users\\adam\\anaconda3\\lib\\site-packages (from google.colab) (0.24.2)\n",
      "Collecting ipykernel~=4.6.0\n",
      "  Using cached ipykernel-4.6.1-py3-none-any.whl (104 kB)\n",
      "Requirement already satisfied: pygments in c:\\users\\adam\\anaconda3\\lib\\site-packages (from ipython~=5.5.0->google.colab) (2.6.1)\n",
      "Requirement already satisfied: pickleshare in c:\\users\\adam\\anaconda3\\lib\\site-packages (from ipython~=5.5.0->google.colab) (0.7.5)\n",
      "Requirement already satisfied: traitlets>=4.2 in c:\\users\\adam\\anaconda3\\lib\\site-packages (from ipython~=5.5.0->google.colab) (4.3.3)\n",
      "Requirement already satisfied: decorator in c:\\users\\adam\\anaconda3\\lib\\site-packages (from ipython~=5.5.0->google.colab) (4.4.2)\n",
      "Requirement already satisfied: setuptools>=18.5 in c:\\users\\adam\\anaconda3\\lib\\site-packages (from ipython~=5.5.0->google.colab) (47.1.1.post20200604)\n",
      "Collecting prompt-toolkit<2.0.0,>=1.0.4\n",
      "  Using cached prompt_toolkit-1.0.18-py3-none-any.whl (245 kB)\n",
      "Requirement already satisfied: simplegeneric>0.8 in c:\\users\\adam\\anaconda3\\lib\\site-packages (from ipython~=5.5.0->google.colab) (0.8.1)\n",
      "Requirement already satisfied: colorama; sys_platform == \"win32\" in c:\\users\\adam\\anaconda3\\lib\\site-packages (from ipython~=5.5.0->google.colab) (0.4.3)\n",
      "Requirement already satisfied: cachetools>=2.0.0 in c:\\users\\adam\\anaconda3\\lib\\site-packages (from google-auth~=1.4.0->google.colab) (4.1.1)\n",
      "Requirement already satisfied: rsa>=3.1.4 in c:\\users\\adam\\anaconda3\\lib\\site-packages (from google-auth~=1.4.0->google.colab) (4.6)\n",
      "Requirement already satisfied: pyasn1-modules>=0.2.1 in c:\\users\\adam\\anaconda3\\lib\\site-packages (from google-auth~=1.4.0->google.colab) (0.2.8)\n",
      "Collecting urllib3<1.25,>=1.21.1\n",
      "  Using cached urllib3-1.24.3-py2.py3-none-any.whl (118 kB)\n",
      "Requirement already satisfied: chardet<3.1.0,>=3.0.2 in c:\\users\\adam\\anaconda3\\lib\\site-packages (from requests~=2.21.0->google.colab) (3.0.4)\n",
      "Requirement already satisfied: certifi>=2017.4.17 in c:\\users\\adam\\anaconda3\\lib\\site-packages (from requests~=2.21.0->google.colab) (2020.6.20)\n",
      "Collecting idna<2.9,>=2.5\n",
      "  Using cached idna-2.8-py2.py3-none-any.whl (58 kB)\n",
      "Requirement already satisfied: jinja2 in c:\\users\\adam\\anaconda3\\lib\\site-packages (from notebook~=5.2.0->google.colab) (2.11.2)\n",
      "Requirement already satisfied: jupyter-core in c:\\users\\adam\\anaconda3\\lib\\site-packages (from notebook~=5.2.0->google.colab) (4.6.3)\n",
      "Requirement already satisfied: jupyter-client in c:\\users\\adam\\anaconda3\\lib\\site-packages (from notebook~=5.2.0->google.colab) (6.1.3)\n",
      "Requirement already satisfied: nbformat in c:\\users\\adam\\anaconda3\\lib\\site-packages (from notebook~=5.2.0->google.colab) (5.0.6)\n",
      "Requirement already satisfied: ipython-genutils in c:\\users\\adam\\anaconda3\\lib\\site-packages (from notebook~=5.2.0->google.colab) (0.2.0)\n",
      "Requirement already satisfied: nbconvert in c:\\users\\adam\\anaconda3\\lib\\site-packages (from notebook~=5.2.0->google.colab) (5.6.1)\n",
      "Requirement already satisfied: pytz>=2011k in c:\\users\\adam\\anaconda3\\lib\\site-packages (from pandas~=0.24.0->google.colab) (2020.1)\n",
      "Requirement already satisfied: python-dateutil>=2.5.0 in c:\\users\\adam\\anaconda3\\lib\\site-packages (from pandas~=0.24.0->google.colab) (2.8.1)\n",
      "Requirement already satisfied: numpy>=1.12.0 in c:\\users\\adam\\anaconda3\\lib\\site-packages (from pandas~=0.24.0->google.colab) (1.15.4)\n",
      "Requirement already satisfied: wcwidth in c:\\users\\adam\\anaconda3\\lib\\site-packages (from prompt-toolkit<2.0.0,>=1.0.4->ipython~=5.5.0->google.colab) (0.1.9)\n",
      "Requirement already satisfied: pyasn1>=0.1.3 in c:\\users\\adam\\anaconda3\\lib\\site-packages (from rsa>=3.1.4->google-auth~=1.4.0->google.colab) (0.4.8)\n",
      "Requirement already satisfied: MarkupSafe>=0.23 in c:\\users\\adam\\anaconda3\\lib\\site-packages (from jinja2->notebook~=5.2.0->google.colab) (1.1.1)\n",
      "Requirement already satisfied: pywin32>=1.0; sys_platform == \"win32\" in c:\\users\\adam\\anaconda3\\lib\\site-packages (from jupyter-core->notebook~=5.2.0->google.colab) (227)\n",
      "Requirement already satisfied: pyzmq>=13 in c:\\users\\adam\\anaconda3\\lib\\site-packages (from jupyter-client->notebook~=5.2.0->google.colab) (18.1.1)\n",
      "Requirement already satisfied: jsonschema!=2.5.0,>=2.4 in c:\\users\\adam\\anaconda3\\lib\\site-packages (from nbformat->notebook~=5.2.0->google.colab) (3.2.0)\n",
      "Requirement already satisfied: testpath in c:\\users\\adam\\anaconda3\\lib\\site-packages (from nbconvert->notebook~=5.2.0->google.colab) (0.4.4)\n",
      "Requirement already satisfied: entrypoints>=0.2.2 in c:\\users\\adam\\anaconda3\\lib\\site-packages (from nbconvert->notebook~=5.2.0->google.colab) (0.3)\n",
      "Requirement already satisfied: bleach in c:\\users\\adam\\anaconda3\\lib\\site-packages (from nbconvert->notebook~=5.2.0->google.colab) (3.1.4)\n",
      "Requirement already satisfied: defusedxml in c:\\users\\adam\\anaconda3\\lib\\site-packages (from nbconvert->notebook~=5.2.0->google.colab) (0.6.0)\n",
      "Requirement already satisfied: pandocfilters>=1.4.1 in c:\\users\\adam\\anaconda3\\lib\\site-packages (from nbconvert->notebook~=5.2.0->google.colab) (1.4.2)\n",
      "Requirement already satisfied: mistune<2,>=0.8.1 in c:\\users\\adam\\anaconda3\\lib\\site-packages (from nbconvert->notebook~=5.2.0->google.colab) (0.8.4)\n",
      "Requirement already satisfied: pyrsistent>=0.14.0 in c:\\users\\adam\\anaconda3\\lib\\site-packages (from jsonschema!=2.5.0,>=2.4->nbformat->notebook~=5.2.0->google.colab) (0.16.0)\n",
      "Requirement already satisfied: attrs>=17.4.0 in c:\\users\\adam\\anaconda3\\lib\\site-packages (from jsonschema!=2.5.0,>=2.4->nbformat->notebook~=5.2.0->google.colab) (19.3.0)\n",
      "Requirement already satisfied: importlib-metadata; python_version < \"3.8\" in c:\\users\\adam\\anaconda3\\lib\\site-packages (from jsonschema!=2.5.0,>=2.4->nbformat->notebook~=5.2.0->google.colab) (1.6.0)\n",
      "Requirement already satisfied: webencodings in c:\\users\\adam\\anaconda3\\lib\\site-packages (from bleach->nbconvert->notebook~=5.2.0->google.colab) (0.5.1)\n",
      "Requirement already satisfied: zipp>=0.5 in c:\\users\\adam\\anaconda3\\lib\\site-packages (from importlib-metadata; python_version < \"3.8\"->jsonschema!=2.5.0,>=2.4->nbformat->notebook~=5.2.0->google.colab) (3.1.0)\n",
      "Installing collected packages: prompt-toolkit, ipython, portpicker, urllib3, idna, requests, ipykernel, notebook, google.colab\n",
      "  Attempting uninstall: prompt-toolkit\n",
      "    Found existing installation: prompt-toolkit 3.0.5\n",
      "    Uninstalling prompt-toolkit-3.0.5:\n",
      "      Successfully uninstalled prompt-toolkit-3.0.5\n",
      "  Attempting uninstall: ipython\n",
      "    Found existing installation: ipython 7.13.0\n",
      "    Uninstalling ipython-7.13.0:\n",
      "      Successfully uninstalled ipython-7.13.0\n",
      "  Attempting uninstall: urllib3\n",
      "    Found existing installation: urllib3 1.25.8\n",
      "    Uninstalling urllib3-1.25.8:\n",
      "      Successfully uninstalled urllib3-1.25.8\n",
      "  Attempting uninstall: idna\n",
      "    Found existing installation: idna 2.9\n",
      "    Uninstalling idna-2.9:\n",
      "      Successfully uninstalled idna-2.9\n",
      "  Attempting uninstall: requests\n",
      "    Found existing installation: requests 2.23.0\n",
      "    Uninstalling requests-2.23.0:\n",
      "      Successfully uninstalled requests-2.23.0\n",
      "  Attempting uninstall: ipykernel\n",
      "    Found existing installation: ipykernel 5.1.4\n",
      "    Uninstalling ipykernel-5.1.4:\n",
      "      Successfully uninstalled ipykernel-5.1.4\n",
      "  Attempting uninstall: notebook\n",
      "    Found existing installation: notebook 6.0.3\n",
      "    Uninstalling notebook-6.0.3:\n",
      "      Successfully uninstalled notebook-6.0.3\n"
     ]
    }
   ],
   "source": [
    "pip install google.colab"
   ]
  }
 ],
 "metadata": {
  "kernelspec": {
   "display_name": "Python 3",
   "language": "python",
   "name": "python3"
  },
  "language_info": {
   "codemirror_mode": {
    "name": "ipython",
    "version": 3
   },
   "file_extension": ".py",
   "mimetype": "text/x-python",
   "name": "python",
   "nbconvert_exporter": "python",
   "pygments_lexer": "ipython3",
   "version": "3.7.3"
  }
 },
 "nbformat": 4,
 "nbformat_minor": 4
}
